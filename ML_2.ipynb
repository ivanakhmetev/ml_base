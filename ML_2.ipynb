{
  "nbformat": 4,
  "nbformat_minor": 0,
  "metadata": {
    "colab": {
      "provenance": []
    },
    "kernelspec": {
      "name": "python3",
      "display_name": "Python 3"
    },
    "language_info": {
      "name": "python"
    }
  },
  "cells": [
    {
      "cell_type": "code",
      "execution_count": 23,
      "metadata": {
        "id": "1KcGZ8Tbks_0"
      },
      "outputs": [],
      "source": [
        "import torch\n",
        "\n",
        "device = 'cuda' if torch.cuda.is_available() else 'cpu'"
      ]
    },
    {
      "cell_type": "code",
      "source": [
        "import numpy as np\n",
        "# генерируем данные\n",
        "np.random.seed(42)\n",
        "sz = 100\n",
        "x = np.random.rand(sz, 1)\n",
        "y = 1 + 2 * x * x * x * x+ 0.1 * np.random.randn(sz, 1)\n",
        "\n",
        "x_tensor = torch.from_numpy(x).float()\n",
        "y_tensor = torch.from_numpy(y).float()"
      ],
      "metadata": {
        "id": "_BiNnZCgk4tm"
      },
      "execution_count": 24,
      "outputs": []
    },
    {
      "cell_type": "code",
      "source": [
        "from torch import nn\n",
        "from torch.optim import SGD\n",
        "\n",
        "#задаем модель и параметры обучения\n",
        "torch.manual_seed(42)\n",
        "model = nn.Sequential(nn.Linear(1, 1)).to(device)\n",
        "print(model.state_dict())\n",
        "print(model.parameters())\n",
        "\n",
        "lr = 0.01\n",
        "n_epochs = 10000\n",
        "loss_fn = nn.MSELoss(reduction='mean')\n",
        "optimizer = SGD(model.parameters(), lr=lr)"
      ],
      "metadata": {
        "colab": {
          "base_uri": "https://localhost:8080/"
        },
        "id": "qMcTHwmWk89E",
        "outputId": "0da2c8f9-be76-4c7f-bfee-87c99f76a352"
      },
      "execution_count": 30,
      "outputs": [
        {
          "output_type": "stream",
          "name": "stdout",
          "text": [
            "OrderedDict([('0.weight', tensor([[0.7645]])), ('0.bias', tensor([0.8300]))])\n",
            "<generator object Module.parameters at 0x79f1f74a4eb0>\n"
          ]
        }
      ]
    },
    {
      "cell_type": "code",
      "source": [
        "from torch.utils.data import Dataset, TensorDataset, DataLoader\n",
        "from torch.utils.data.dataset import random_split\n",
        "\n",
        "# задаем датасеты и загрузчики\n",
        "dataset = TensorDataset(x_tensor, y_tensor)\n",
        "train_dataset, val_dataset = random_split(dataset, [80, 20])\n",
        "\n",
        "train_loader = DataLoader(dataset=train_dataset, batch_size=16)\n",
        "val_loader = DataLoader(dataset=val_dataset, batch_size=20)"
      ],
      "metadata": {
        "id": "-AwEnTOMlEyX"
      },
      "execution_count": 26,
      "outputs": []
    },
    {
      "cell_type": "code",
      "source": [
        "# задаем шаг обучения\n",
        "def make_train_step(model, loss_fn, optimizer):\n",
        "\n",
        "    def train_step(x, y):\n",
        "        model.train()\n",
        "        yhat = model(x)\n",
        "        loss = loss_fn(yhat, y)\n",
        "        loss.backward()\n",
        "        optimizer.step()\n",
        "        optimizer.zero_grad()\n",
        "        return loss.item()\n",
        "\n",
        "    return train_step\n",
        "\n",
        "train_step = make_train_step(model, loss_fn, optimizer)"
      ],
      "metadata": {
        "id": "jx-ciRRglOtV"
      },
      "execution_count": 27,
      "outputs": []
    },
    {
      "cell_type": "code",
      "source": [
        "# обучаем модель\n",
        "for epoch in range(n_epochs):\n",
        "    for x_batch, y_batch in train_loader:\n",
        "        x_batch = x_batch.to(device)\n",
        "        y_batch = y_batch.to(device)\n",
        "        loss = train_step(x_batch, y_batch)"
      ],
      "metadata": {
        "id": "MK_mng_clURH"
      },
      "execution_count": 31,
      "outputs": []
    },
    {
      "cell_type": "code",
      "source": [
        "# тестируем модель\n",
        "with torch.no_grad():\n",
        "    for x_val, y_val in val_loader:\n",
        "        x_val = x_val.to(device)\n",
        "        y_val = y_val.to(device)\n",
        "        model.eval()\n",
        "        yhat = model(x_val)\n",
        "        val_loss = loss_fn(yhat, y_val)\n",
        "\n",
        "print(model.state_dict())\n",
        "print(loss, val_loss)"
      ],
      "metadata": {
        "colab": {
          "base_uri": "https://localhost:8080/"
        },
        "id": "YoSFKP6plj5K",
        "outputId": "f54fe297-9a9e-4599-f56d-529fdb2bd6c8"
      },
      "execution_count": 32,
      "outputs": [
        {
          "output_type": "stream",
          "name": "stdout",
          "text": [
            "OrderedDict([('0.weight', tensor([[0.7645]])), ('0.bias', tensor([0.8300]))])\n",
            "0.08277549594640732 tensor(0.2854)\n"
          ]
        }
      ]
    }
  ]
}